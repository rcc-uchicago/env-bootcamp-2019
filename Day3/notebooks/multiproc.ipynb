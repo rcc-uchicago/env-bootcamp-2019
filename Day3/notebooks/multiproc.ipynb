{
 "cells": [
  {
   "cell_type": "markdown",
   "metadata": {
    "colab_type": "text",
    "id": "LwHphyYT2lo5"
   },
   "source": [
    "# Multiprocessing in Python\n",
    "\n",
    "Here we will explore how to make use of multiple processes in python via the [multiprocessing library](https://docs.python.org/2/library/multiprocessing.html).\n",
    "\n",
    "The multiprocessing Python module contains two classes capable of handling tasks. The Process class sends each task to a different processor, and the Pool class sends sets of tasks to different processors. We will show how to multiprocess the example code using both classes. Although both classes provide a similar speed increase, the Process class is more efficient in this case because there are not many processes to execute. Pool is most useful for large amounts of processes where each process can execute quickly, while Process is most useful for a small number of processes where each process would take a longer time to execute.\n",
    "\n"
   ]
  },
  {
   "cell_type": "markdown",
   "metadata": {},
   "source": [
    "## Basic usage of multiprocessing library -- the Process class\n",
    "\n",
    "To use the Process class, place the functions and calculations that are done on each list item in its own function that will take a list item as one of its arguments. Next, import the multiprocessing module, create a new process for each list item, and trigger each process in one call. We keep track of these processes by making a list and adding each process to it. After creating all the processes, take the separate output of each CPU and join them into a single list.\n",
    "\n",
    "In the following example, we create two processes and try to operate on the same list inside of them."
   ]
  },
  {
   "cell_type": "code",
   "execution_count": 3,
   "metadata": {
    "colab": {
     "autoexec": {
      "startup": false,
      "wait_interval": 0
     },
     "base_uri": "https://localhost:8080/",
     "height": 67,
     "output_extras": [
      {
       "item_id": 1
      }
     ]
    },
    "colab_type": "code",
    "executionInfo": {
     "elapsed": 514,
     "status": "ok",
     "timestamp": 1520171574376,
     "user": {
      "displayName": "Karol Horosin",
      "photoUrl": "https://lh3.googleusercontent.com/a/default-user=s128",
      "userId": "100004662707027644040"
     },
     "user_tz": -60
    },
    "id": "RynK6PXb2QPk",
    "outputId": "b5e19014-74a5-4916-e8fb-d08d3a78d0c8"
   },
   "outputs": [
    {
     "name": "stdout",
     "output_type": "stream",
     "text": [
      "0 squared results in a/an zero number\n",
      "1 squared results in a/an odd number\n",
      "2 squared results in a/an even number\n",
      "3 squared results in a/an odd number\n",
      "4 squared results in a/an even number\n",
      "5 squared results in a/an odd number\n",
      "6 squared results in a/an even number\n",
      "7 squared results in a/an odd number\n",
      "8 squared results in a/an even number\n",
      "9 squared results in a/an odd number\n",
      "That took 2.1348626613616943 seconds\n"
     ]
    }
   ],
   "source": [
    "import time\n",
    "import multiprocessing \n",
    "\n",
    "def basic_func(x):\n",
    "    if x == 0:\n",
    "        return 'zero'\n",
    "    elif x%2 == 0:\n",
    "        return 'even'\n",
    "    else:\n",
    "        return 'odd'\n",
    "\n",
    "def multiprocessing_func(x):\n",
    "    y = x*x\n",
    "    time.sleep(2)\n",
    "    print('{} squared results in a/an {} number'.format(x, basic_func(y)))\n",
    "    \n",
    "if __name__ == '__main__':\n",
    "    starttime = time.time()\n",
    "    processes = []\n",
    "    for i in range(0,10):\n",
    "        p = multiprocessing.Process(target=multiprocessing_func, args=(i,))\n",
    "        processes.append(p)\n",
    "        p.start()\n",
    "        \n",
    "    for process in processes:\n",
    "        process.join()\n",
    "        \n",
    "    print('That took {} seconds'.format(time.time() - starttime))"
   ]
  },
  {
   "cell_type": "markdown",
   "metadata": {},
   "source": [
    "## Basic Usage of the Pool Class\n",
    "\n",
    "To use the Pool class, we also have to create a separate function that takes a list item as an argument like we did when using Process. Then, using the multiprocessing module, create a Pool object called pool. This object has a function called map, which takes the function we want to multiprocess and the list as arguments and then iterates through the list for that function. After calling the function map, close the object to allow for a clean shutdown."
   ]
  },
  {
   "cell_type": "code",
   "execution_count": 4,
   "metadata": {},
   "outputs": [
    {
     "name": "stdout",
     "output_type": "stream",
     "text": [
      "1 squared results in a/an odd number\n",
      "0 squared results in a/an zero number\n",
      "2 squared results in a/an even number\n",
      "3 squared results in a/an odd number\n",
      "5 squared results in a/an odd number\n",
      "4 squared results in a/an even number\n",
      "6 squared results in a/an even number\n",
      "7 squared results in a/an odd number\n",
      "9 squared results in a/an odd number\n",
      "8 squared results in a/an even number\n",
      "That took 6.080142021179199 seconds\n"
     ]
    }
   ],
   "source": [
    "import time\n",
    "import multiprocessing \n",
    "\n",
    "def basic_func(x):\n",
    "    if x == 0:\n",
    "        return 'zero'\n",
    "    elif x%2 == 0:\n",
    "        return 'even'\n",
    "    else:\n",
    "        return 'odd'\n",
    "\n",
    "def multiprocessing_func(x):\n",
    "    y = x*x\n",
    "    time.sleep(2)\n",
    "    print('{} squared results in a/an {} number'.format(x, basic_func(y)))\n",
    "    \n",
    "if __name__ == '__main__':\n",
    "    \n",
    "    starttime = time.time()\n",
    "    pool = multiprocessing.Pool()\n",
    "    pool.map(multiprocessing_func, range(0,10))\n",
    "    pool.close()\n",
    "    print('That took {} seconds'.format(time.time() - starttime))"
   ]
  },
  {
   "cell_type": "markdown",
   "metadata": {},
   "source": [
    "## Another simple example using the Process Class"
   ]
  },
  {
   "cell_type": "code",
   "execution_count": null,
   "metadata": {},
   "outputs": [],
   "source": [
    "import multiprocessing as mp\n",
    "\n",
    "def func(some_list):\n",
    "  some_list.append(\"hello\")\n",
    "  print(some_list)\n",
    "\n",
    "\n",
    "if __name__ == '__main__':\n",
    "  some_list = []\n",
    "\n",
    "  p1 = mp.Process(target=func, args=(some_list, ))\n",
    "  p2 = mp.Process(target=func, args=(some_list, ))\n",
    "\n",
    "  p1.start()\n",
    "  p2.start()\n",
    "\n",
    "  p1.join()\n",
    "  p2.join()\n",
    "\n",
    "  print(some_list)"
   ]
  },
  {
   "cell_type": "markdown",
   "metadata": {},
   "source": [
    "As you can see, changes made to the list in the subprocesses are not visible in the main process. This is a result of the fact, that memory is copied on creation of the new process. There are few techniques to actually share information between processes.\n",
    "\n",
    "Let's do something practical before we visit other functinalities of `multiprocessing`."
   ]
  },
  {
   "cell_type": "markdown",
   "metadata": {
    "colab_type": "text",
    "id": "NNqkHpd39NJw"
   },
   "source": [
    "## Multiprocessing -- the Pool class\n",
    "Allows for easy offloading of tasks to 'worker processes'.\n",
    "\n",
    "Map functions keep the order of returned results. If you don't need it, use `imap_unordered` for optimization. You can also run tasks asynchronously with help of apply_async."
   ]
  },
  {
   "cell_type": "code",
   "execution_count": 1,
   "metadata": {
    "colab": {
     "autoexec": {
      "startup": false,
      "wait_interval": 0
     },
     "base_uri": "https://localhost:8080/",
     "height": 221,
     "output_extras": [
      {
       "item_id": 1
      }
     ]
    },
    "colab_type": "code",
    "executionInfo": {
     "elapsed": 808,
     "status": "ok",
     "timestamp": 1520361018399,
     "user": {
      "displayName": "Karol Horosin",
      "photoUrl": "https://lh3.googleusercontent.com/a/default-user=s128",
      "userId": "100004662707027644040"
     },
     "user_tz": -60
    },
    "id": "n0HnYbRP9Vzi",
    "outputId": "6f08970e-3994-4684-ba6f-aa48ae423bd8"
   },
   "outputs": [
    {
     "name": "stdout",
     "output_type": "stream",
     "text": [
      "[0, 1, 4, 9, 16, 25, 36, 49, 64, 81]\n",
      "0\n",
      "1\n",
      "4\n",
      "9\n",
      "16\n",
      "25\n",
      "36\n",
      "49\n",
      "64\n",
      "81\n",
      "0\n",
      "1\n",
      "4\n",
      "9\n",
      "16\n",
      "25\n",
      "36\n",
      "49\n",
      "64\n",
      "81\n"
     ]
    }
   ],
   "source": [
    "from time import sleep\n",
    "import multiprocessing as mp\n",
    "\n",
    "def f_sleep(x):\n",
    "    sleep(2)\n",
    "    return x*x\n",
    "\n",
    "\n",
    "def f(x):\n",
    "    return x*x\n",
    "\n",
    "\n",
    "if __name__ == '__main__':\n",
    "  \n",
    "  with mp.Pool(processes=3) as pool:  # default number of processes: os.cpu_count()\n",
    "    \n",
    "    print(pool.map(f, range(10)))\n",
    "\n",
    "    for i in pool.imap_unordered(f, range(10)):\n",
    "        print(i)\n",
    "        \n",
    "    \n",
    "    # run tasks asynchronously\n",
    "    tasks = []   \n",
    "    \n",
    "    for i in range(10):\n",
    "        tasks.append(pool.apply_async(f_sleep, args=(i, )))\n",
    "        \n",
    "    # timeout if fetching results takes too long\n",
    "    for i in tasks:\n",
    "        print(i.get(timeout=3))\n",
    "\n",
    "  "
   ]
  },
  {
   "cell_type": "code",
   "execution_count": null,
   "metadata": {},
   "outputs": [],
   "source": []
  },
  {
   "cell_type": "code",
   "execution_count": null,
   "metadata": {},
   "outputs": [],
   "source": []
  },
  {
   "cell_type": "markdown",
   "metadata": {},
   "source": [
    "## Example - mandelbrot set\n",
    "\"Embarassingly parallel problem\"\n",
    "\n",
    "### Standard implementation"
   ]
  },
  {
   "cell_type": "code",
   "execution_count": 2,
   "metadata": {},
   "outputs": [
    {
     "name": "stderr",
     "output_type": "stream",
     "text": [
      "/Users/jhskone/anaconda/anaconda3/lib/python3.6/site-packages/matplotlib/font_manager.py:278: UserWarning: Matplotlib is building the font cache using fc-list. This may take a moment.\n",
      "  'Matplotlib is building the font cache using fc-list. '\n"
     ]
    },
    {
     "name": "stdout",
     "output_type": "stream",
     "text": [
      "Completed in: 14.99233889579773 seconds\n"
     ]
    }
   ],
   "source": [
    "import matplotlib.pyplot as plt\n",
    "from functools import partial\n",
    "import time\n",
    "\n",
    "\n",
    "def mandelbrotCalcRow(yPos, h, w, max_iteration = 1000):\n",
    "    y0 = yPos * (2/float(h)) - 1 #rescale to -1 to 1\n",
    "    row = []\n",
    "    for xPos in range(w):\n",
    "        x0 = xPos * (3.5/float(w)) - 2.5 #rescale to -2.5 to 1\n",
    "        iteration, z = 0, 0 + 0j\n",
    "        c = complex(x0, y0)\n",
    "        while abs(z) < 2 and iteration < max_iteration:\n",
    "            z = z**2 + c\n",
    "            iteration += 1\n",
    "        row.append(iteration)\n",
    "\n",
    "    return row\n",
    "\n",
    "\n",
    "def mandelbrotCalcSet(h, w, max_iteration = 1000):\n",
    "    partialCalcRow = partial(mandelbrotCalcRow, h=h, w=w, max_iteration = max_iteration)\n",
    "    mandelImg = list(map(partialCalcRow, range(h)))\n",
    "    return mandelImg\n",
    "\n",
    "\n",
    "if __name__ == '__main__':\n",
    "    start_time = time.time()\n",
    "    mandelImg = mandelbrotCalcSet(500, 400, 1000)\n",
    "    print(\"Completed in: %s seconds\" % (time.time() - start_time))\n",
    "    \n",
    "    plt.figure(figsize=(10, 6), facecolor='w', edgecolor='k')\n",
    "    plt.imshow(mandelImg,  interpolation='nearest', aspect='auto')\n",
    "    "
   ]
  },
  {
   "cell_type": "markdown",
   "metadata": {},
   "source": [
    "### Parallel implmentation\n",
    "Let's use a pool of process to caluclate rows in parallel.\n"
   ]
  },
  {
   "cell_type": "code",
   "execution_count": 3,
   "metadata": {},
   "outputs": [
    {
     "name": "stdout",
     "output_type": "stream",
     "text": [
      "Completed in: 3.513144016265869 seconds\n"
     ]
    },
    {
     "data": {
      "image/png": "[encoded data removed]",
      "text/plain": [
       "<Figure size 720x432 with 1 Axes>"
      ]
     },
     "metadata": {},
     "output_type": "display_data"
    }
   ],
   "source": [
    "import multiprocessing as mp\n",
    "\n",
    "\n",
    "def mandelbrotCalcSet(h, w, max_iteration = 1000):\n",
    "\n",
    "    partialCalcRow = partial(mandelbrotCalcRow, h=h, w=w, max_iteration = max_iteration)\n",
    " \n",
    "    pool = mp.Pool(processes=4)\n",
    "    mandelImg = pool.map(partialCalcRow, range(h)) \n",
    "    pool.close()\n",
    "    pool.join()\n",
    " \n",
    "    return mandelImg\n",
    "\n",
    "\n",
    "if __name__ == '__main__':\n",
    "    start_time = time.time()\n",
    "    mandelImg = mandelbrotCalcSet(500, 400, 1000)\n",
    "    print(\"Completed in: %s seconds\" % (time.time() - start_time))\n",
    "    \n",
    "    plt.figure(figsize=(10, 6), facecolor='w', edgecolor='k')\n",
    "    plt.imshow(mandelImg,  interpolation='nearest', aspect='auto')"
   ]
  },
  {
   "cell_type": "markdown",
   "metadata": {},
   "source": [
    "We were able to achieve a significant speed-up."
   ]
  },
  {
   "cell_type": "markdown",
   "metadata": {
    "colab_type": "text",
    "id": "k2nFMcTs8m0d"
   },
   "source": [
    "## Exchanging data between processes\n",
    "\n",
    "### Pipes\n",
    "- objects have to be picklable\n",
    "- pretty slow\n",
    "- objects > 32MB might cause errors\n",
    "- pipe is basically a buffer\n",
    "- data might become corrupted if to processes write to the same end of the pipe at the same time\n",
    "- implemented in os\n",
    "- can be uni- or bi- dirctional\n",
    "\n",
    "In this example we try to send data from the child process to the main process."
   ]
  },
  {
   "cell_type": "code",
   "execution_count": 5,
   "metadata": {
    "colab": {
     "autoexec": {
      "startup": false,
      "wait_interval": 0
     },
     "base_uri": "https://localhost:8080/",
     "height": 34,
     "output_extras": [
      {
       "item_id": 1
      }
     ]
    },
    "colab_type": "code",
    "executionInfo": {
     "elapsed": 619,
     "status": "ok",
     "timestamp": 1520176537071,
     "user": {
      "displayName": "Karol Horosin",
      "photoUrl": "https://lh3.googleusercontent.com/a/default-user=s128",
      "userId": "100004662707027644040"
     },
     "user_tz": -60
    },
    "id": "Hff-PPjn8ZCH",
    "outputId": "54a5ff87-24fc-4df8-f996-8e07d39461cd"
   },
   "outputs": [
    {
     "name": "stdout",
     "output_type": "stream",
     "text": [
      "Hi there, bud!\n"
     ]
    }
   ],
   "source": [
    "def func(conn):\n",
    "    conn.send(\"Hi there, bud!\")\n",
    "    conn.close()\n",
    "    \n",
    "\n",
    "if __name__ == '__main__':\n",
    "\n",
    "  one_end, second_end = mp.Pipe()\n",
    "\n",
    "  for i in range(100):\n",
    "      p = mp.Process(target=func, args=(second_end,))\n",
    "      p.start()\n",
    "\n",
    "  print(one_end.recv())\n",
    "  p.join()"
   ]
  },
  {
   "cell_type": "markdown",
   "metadata": {
    "colab_type": "text",
    "id": "fTdALuPnA69k"
   },
   "source": [
    "### Queue\n",
    "- higher level than pipes, safer\n",
    "- can store python objects\n",
    "- slow\n"
   ]
  },
  {
   "cell_type": "code",
   "execution_count": 35,
   "metadata": {
    "colab": {
     "autoexec": {
      "startup": false,
      "wait_interval": 0
     },
     "base_uri": "https://localhost:8080/",
     "height": 34,
     "output_extras": [
      {
       "item_id": 1
      }
     ]
    },
    "colab_type": "code",
    "executionInfo": {
     "elapsed": 673,
     "status": "ok",
     "timestamp": 1520176522330,
     "user": {
      "displayName": "Karol Horosin",
      "photoUrl": "https://lh3.googleusercontent.com/a/default-user=s128",
      "userId": "100004662707027644040"
     },
     "user_tz": -60
    },
    "id": "YneOC88XBDQ1",
    "outputId": "2baa0bd1-c7e7-43b9-8c77-375bab711e5e"
   },
   "outputs": [
    {
     "name": "stdout",
     "output_type": "stream",
     "text": [
      "['An answer is 42']\n"
     ]
    }
   ],
   "source": [
    "def func(results):\n",
    "    results.put([\"An answer is 42\"])\n",
    "    \n",
    "if __name__ == '__main__':\n",
    "\n",
    "  results = mp.Queue()\n",
    "\n",
    "  p1 = mp.Process(target=func, args=(results, ))\n",
    "  p1.start()\n",
    "\n",
    "  print(results.get())\n",
    "  p1.join()"
   ]
  },
  {
   "cell_type": "markdown",
   "metadata": {
    "colab_type": "text",
    "id": "p9tNVc8_8rHG"
   },
   "source": [
    "## Synchronization\n",
    "\n",
    "To ilustrate synchronization mechanisms, we use shared memory explained later in this notebook.\n",
    "\n",
    "### Trivial example\n",
    "Sometimes we want to ensure some resources are not used by multiple processes at the same time. In this example, process are waiting for lock to be released in order not to mix up their output.\n",
    "\n",
    "Other examples: database, files."
   ]
  },
  {
   "cell_type": "code",
   "execution_count": 9,
   "metadata": {
    "colab": {
     "autoexec": {
      "startup": false,
      "wait_interval": 0
     },
     "base_uri": "https://localhost:8080/",
     "height": 101,
     "output_extras": [
      {
       "item_id": 1
      }
     ]
    },
    "colab_type": "code",
    "executionInfo": {
     "elapsed": 641,
     "status": "ok",
     "timestamp": 1520169728588,
     "user": {
      "displayName": "Karol Horosin",
      "photoUrl": "https://lh3.googleusercontent.com/a/default-user=s128",
      "userId": "100004662707027644040"
     },
     "user_tz": -60
    },
    "id": "WeB51fVf8uXP",
    "outputId": "8a23e52b-b3b6-47eb-dcb1-c7861a3328bf"
   },
   "outputs": [
    {
     "name": "stdout",
     "output_type": "stream",
     "text": [
      "hello world 0\n",
      "hello world 1\n"
     ]
    }
   ],
   "source": [
    "import multiprocessing as mp\n",
    "\n",
    "def f(lock, i):\n",
    "    lock.acquire()\n",
    "    try:\n",
    "        print('hello world', i)\n",
    "    finally:\n",
    "        lock.release()\n",
    "\n",
    "if __name__ == '__main__':\n",
    "    lock = mp.Lock()\n",
    "\n",
    "    for num in range(2):\n",
    "        mp.Process(target=f, args=(lock, num)).start()"
   ]
  },
  {
   "cell_type": "markdown",
   "metadata": {},
   "source": [
    "### Why is it important?\n",
    "\n",
    "Unsupervised access to shared resources may cause unexpected behaviour, such as presented below. In theory, we should add 1 to `num` value 2000 times, resulting in `num` equaling to 2000 and change sign of `arr` array elements 2000 times, leaving them positive. When you run the cell below, you should notice `num` value beeing lower and `arr` elements having different signs. See `Sharing state` below for more information about Value and Array classes.\n",
    "\n",
    "**Warning:** This example might not run at your machine due to open processes limit."
   ]
  },
  {
   "cell_type": "code",
   "execution_count": 12,
   "metadata": {},
   "outputs": [
    {
     "name": "stdout",
     "output_type": "stream",
     "text": [
      "1997.0\n",
      "[0, -1, -2, -3, -4, -5, -6, -7, -8, -9]\n"
     ]
    }
   ],
   "source": [
    "import multiprocessing as mp\n",
    "\n",
    "\n",
    "def f(n, a):\n",
    "    n.value += 1;\n",
    "    for i in range(len(a)):\n",
    "        a[i] = -a[i]\n",
    "\n",
    "        \n",
    "if __name__ == '__main__':\n",
    "    num = mp.Value('d', 0.0)\n",
    "    arr = mp.Array('i', range(10))\n",
    "\n",
    "    processes = []\n",
    "    \n",
    "    for i in range(1, 2000):\n",
    "        p = mp.Process(target=f, args=(num, arr))\n",
    "        p.start()\n",
    "        processes.append(p)\n",
    "    \n",
    "    print(num.value)\n",
    "    print(arr[:])\n",
    "    "
   ]
  },
  {
   "cell_type": "markdown",
   "metadata": {
    "colab_type": "text",
    "id": "6dNCQ0Yh8uq2"
   },
   "source": [
    "## Sharing state\n",
    "\n",
    "In general, you should design your software to avoid sharing memory between process. If the use case requires it, multiprocessing provides a way to share memory spaces."
   ]
  },
  {
   "cell_type": "markdown",
   "metadata": {
    "colab_type": "text",
    "id": "Dv2YLg5pLgcy"
   },
   "source": [
    "### Shared memory\n",
    "\n",
    "- uses c-like memory representation there are only Arrays and Values.\n",
    "- see multiprocessing.csharedtypes for more\n",
    "- see resources for use with numpy arrays"
   ]
  },
  {
   "cell_type": "code",
   "execution_count": 53,
   "metadata": {
    "colab": {
     "autoexec": {
      "startup": false,
      "wait_interval": 0
     },
     "base_uri": "https://localhost:8080/",
     "height": 51,
     "output_extras": [
      {
       "item_id": 1
      }
     ]
    },
    "colab_type": "code",
    "executionInfo": {
     "elapsed": 557,
     "status": "ok",
     "timestamp": 1520169822578,
     "user": {
      "displayName": "Karol Horosin",
      "photoUrl": "https://lh3.googleusercontent.com/a/default-user=s128",
      "userId": "100004662707027644040"
     },
     "user_tz": -60
    },
    "id": "YWg1kFav9XN6",
    "outputId": "226086ed-0c8c-46be-9e4f-0e128ce751ff"
   },
   "outputs": [
    {
     "name": "stdout",
     "output_type": "stream",
     "text": [
      "3.1415927\n",
      "[0, -1, -2, -3, -4, -5, -6, -7, -8, -9]\n"
     ]
    }
   ],
   "source": [
    "\n",
    "def f(n, a, lock):\n",
    "    lock.acquire()\n",
    "    n.value = 3.1415927\n",
    "    lock.release()\n",
    "    for i in range(len(a)):\n",
    "        a[i] = -a[i]\n",
    "\n",
    "if __name__ == '__main__':\n",
    "    num = mp.Value('d', 0.0)\n",
    "    arr = mp.Array('i', range(10))\n",
    "\n",
    "    p = mp.Process(target=f, args=(num, arr))\n",
    "    p.start()\n",
    "    p.join()\n",
    "\n",
    "    print(num.value)\n",
    "    print(arr[:])"
   ]
  },
  {
   "cell_type": "markdown",
   "metadata": {},
   "source": [
    "### Server process\n",
    "\n",
    "Less performance but can be used with any pickle'able object."
   ]
  },
  {
   "cell_type": "code",
   "execution_count": 13,
   "metadata": {},
   "outputs": [
    {
     "name": "stdout",
     "output_type": "stream",
     "text": [
      "{1: '1', '2': 2, 0.25: None}\n",
      "[9, 8, 7, 6, 5, 4, 3, 2, 1, 0]\n"
     ]
    }
   ],
   "source": [
    "from multiprocessing import Process, Manager\n",
    "\n",
    "def f(d, l):\n",
    "    d[1] = '1'\n",
    "    d['2'] = 2\n",
    "    d[0.25] = None\n",
    "    l.reverse()\n",
    "\n",
    "if __name__ == '__main__':\n",
    "    with Manager() as manager:\n",
    "        d = manager.dict()\n",
    "        l = manager.list(range(10))\n",
    "\n",
    "        p = Process(target=f, args=(d, l))\n",
    "        p.start()\n",
    "        p.join()\n",
    "\n",
    "        print(d)\n",
    "        print(l)"
   ]
  },
  {
   "cell_type": "code",
   "execution_count": null,
   "metadata": {},
   "outputs": [],
   "source": []
  }
 ],
 "metadata": {
  "colab": {
   "collapsed_sections": [],
   "default_view": {},
   "name": "multiprocessing.ipynb",
   "provenance": [],
   "version": "0.3.2",
   "views": {}
  },
  "kernelspec": {
   "display_name": "Python 3",
   "language": "python",
   "name": "python3"
  },
  "language_info": {
   "codemirror_mode": {
    "name": "ipython",
    "version": 3
   },
   "file_extension": ".py",
   "mimetype": "text/x-python",
   "name": "python",
   "nbconvert_exporter": "python",
   "pygments_lexer": "ipython3",
   "version": "3.6.5"
  }
 },
 "nbformat": 4,
 "nbformat_minor": 1
}
