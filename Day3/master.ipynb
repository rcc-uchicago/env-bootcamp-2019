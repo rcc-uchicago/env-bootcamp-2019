{
 "cells": [
  {
   "cell_type": "markdown",
   "metadata": {},
   "source": [
    " ![](imgs/header.jpg)"
   ]
  },
  {
   "cell_type": "markdown",
   "metadata": {},
   "source": [
    "<h2> Content Outline </h2>\n",
    "\n",
    "* Overview:  \n",
    "    * <a href=\"notebooks/jupyter_intro.ipynb\">Jupyter Lab IDE & Notebook Basics </a>\n",
    "    * <a href=\"notebooks/overview.ipynb\"> Overview of Parallel Computing in Python </a>\n",
    "    \n",
    "* <a href=\"notebooks/threading.ipynb\">Threading:</a>\n",
    "    * C-extension Thread-enabled Libraries (numpy & scipy)\n",
    "    * Threading package\n",
    "\n",
    "* <a href=\"notebooks/multiproc.ipynb\">Multiprocessing:</a>\n",
    "    * Process Class\n",
    "    * Pool Class \n",
    " \n",
    "* Other Parallel Libraries:\n",
    "    * <a href=\"https://github.com/classner/pymp\"> pymp -- OpenMP-like Functionality for Python </a>\n",
    "\n"
   ]
  },
  {
   "cell_type": "markdown",
   "metadata": {},
   "source": [
    "<h2> Supporting Resources </h2>\n",
    "\n",
    "<h3> Quick References </h3>\n",
    "\n",
    "  * <a href=\"https://docs.python.org/2/library/threading.html\">Threading Library Documentation </a> \n",
    "  * <a href=\"https://docs.python.org/2/library/multiprocessing.html\">Multiprocessing Library Documentation </a> \n",
    "  * <a href=\"https://wiki.python.org/moin/ParallelProcessing\">Python Parallel Processing Wiki </a> \n",
    "  \n",
    " ![](imgs/CH.png)"
   ]
  },
  {
   "cell_type": "markdown",
   "metadata": {},
   "source": [
    "<h3> RCC Additional Support </h3>\n",
    "\n",
    "* Email: help@rcc.uchicago.edu\n",
    "* Web: rcc.uchicago.edu\n",
    "* Phone: 773-795-2667\n",
    "* Walk-in: Regenstein Library, suite 216\n",
    "\n",
    "\n",
    "![](imgs/RCC.png)"
   ]
  },
  {
   "cell_type": "code",
   "execution_count": null,
   "metadata": {},
   "outputs": [],
   "source": []
  }
 ],
 "metadata": {
  "anaconda-cloud": {},
  "kernelspec": {
   "display_name": "Python 3",
   "language": "python",
   "name": "python3"
  },
  "language_info": {
   "codemirror_mode": {
    "name": "ipython",
    "version": 3
   },
   "file_extension": ".py",
   "mimetype": "text/x-python",
   "name": "python",
   "nbconvert_exporter": "python",
   "pygments_lexer": "ipython3",
   "version": "3.7.1"
  },
  "toc": {
   "nav_menu": {},
   "number_sections": true,
   "sideBar": true,
   "skip_h1_title": false,
   "title_cell": "Table of Contents",
   "title_sidebar": "Contents",
   "toc_cell": false,
   "toc_position": {},
   "toc_section_display": true,
   "toc_window_display": false
  }
 },
 "nbformat": 4,
 "nbformat_minor": 2
}
